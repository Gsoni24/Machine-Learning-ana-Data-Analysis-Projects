{
 "cells": [
  {
   "cell_type": "code",
   "execution_count": 1,
   "id": "f0d1a94b-7c04-4fdb-bb6a-7572d0c197f8",
   "metadata": {},
   "outputs": [],
   "source": [
    "import numpy as np\n",
    "import pandas as pd\n",
    "import matplotlib.pyplot as plt\n",
    "import seaborn as sns"
   ]
  },
  {
   "cell_type": "code",
   "execution_count": 2,
   "id": "2efa0be2-13ae-498f-9ee9-4d7e0e94adc7",
   "metadata": {},
   "outputs": [
    {
     "data": {
      "text/html": [
       "<div>\n",
       "<style scoped>\n",
       "    .dataframe tbody tr th:only-of-type {\n",
       "        vertical-align: middle;\n",
       "    }\n",
       "\n",
       "    .dataframe tbody tr th {\n",
       "        vertical-align: top;\n",
       "    }\n",
       "\n",
       "    .dataframe thead th {\n",
       "        text-align: right;\n",
       "    }\n",
       "</style>\n",
       "<table border=\"1\" class=\"dataframe\">\n",
       "  <thead>\n",
       "    <tr style=\"text-align: right;\">\n",
       "      <th></th>\n",
       "      <th>NCT Number</th>\n",
       "      <th>Title</th>\n",
       "      <th>Acronym</th>\n",
       "      <th>Status</th>\n",
       "      <th>Study Results</th>\n",
       "      <th>Conditions</th>\n",
       "      <th>Interventions</th>\n",
       "      <th>Outcome Measures</th>\n",
       "      <th>Sponsor/Collaborators</th>\n",
       "      <th>Gender</th>\n",
       "      <th>...</th>\n",
       "      <th>Other IDs</th>\n",
       "      <th>Start Date</th>\n",
       "      <th>Primary Completion Date</th>\n",
       "      <th>Completion Date</th>\n",
       "      <th>First Posted</th>\n",
       "      <th>Results First Posted</th>\n",
       "      <th>Last Update Posted</th>\n",
       "      <th>Locations</th>\n",
       "      <th>Study Documents</th>\n",
       "      <th>URL</th>\n",
       "    </tr>\n",
       "    <tr>\n",
       "      <th>Rank</th>\n",
       "      <th></th>\n",
       "      <th></th>\n",
       "      <th></th>\n",
       "      <th></th>\n",
       "      <th></th>\n",
       "      <th></th>\n",
       "      <th></th>\n",
       "      <th></th>\n",
       "      <th></th>\n",
       "      <th></th>\n",
       "      <th></th>\n",
       "      <th></th>\n",
       "      <th></th>\n",
       "      <th></th>\n",
       "      <th></th>\n",
       "      <th></th>\n",
       "      <th></th>\n",
       "      <th></th>\n",
       "      <th></th>\n",
       "      <th></th>\n",
       "      <th></th>\n",
       "    </tr>\n",
       "  </thead>\n",
       "  <tbody>\n",
       "    <tr>\n",
       "      <th>1</th>\n",
       "      <td>NCT04785898</td>\n",
       "      <td>Diagnostic Performance of the ID Now™ COVID-19...</td>\n",
       "      <td>COVID-IDNow</td>\n",
       "      <td>Active, not recruiting</td>\n",
       "      <td>No Results Available</td>\n",
       "      <td>Covid19</td>\n",
       "      <td>Diagnostic Test: ID Now™ COVID-19 Screening Test</td>\n",
       "      <td>Evaluate the diagnostic performance of the ID ...</td>\n",
       "      <td>Groupe Hospitalier Paris Saint Joseph</td>\n",
       "      <td>All</td>\n",
       "      <td>...</td>\n",
       "      <td>COVID-IDNow</td>\n",
       "      <td>November 9, 2020</td>\n",
       "      <td>December 22, 2020</td>\n",
       "      <td>April 30, 2021</td>\n",
       "      <td>March 8, 2021</td>\n",
       "      <td>NaN</td>\n",
       "      <td>March 8, 2021</td>\n",
       "      <td>Groupe Hospitalier Paris Saint-Joseph, Paris, ...</td>\n",
       "      <td>NaN</td>\n",
       "      <td>https://ClinicalTrials.gov/show/NCT04785898</td>\n",
       "    </tr>\n",
       "    <tr>\n",
       "      <th>2</th>\n",
       "      <td>NCT04595136</td>\n",
       "      <td>Study to Evaluate the Efficacy of COVID19-0001...</td>\n",
       "      <td>COVID-19</td>\n",
       "      <td>Not yet recruiting</td>\n",
       "      <td>No Results Available</td>\n",
       "      <td>SARS-CoV-2 Infection</td>\n",
       "      <td>Drug: Drug COVID19-0001-USR|Drug: normal saline</td>\n",
       "      <td>Change on viral load results from baseline aft...</td>\n",
       "      <td>United Medical Specialties</td>\n",
       "      <td>All</td>\n",
       "      <td>...</td>\n",
       "      <td>COVID19-0001-USR</td>\n",
       "      <td>November 2, 2020</td>\n",
       "      <td>December 15, 2020</td>\n",
       "      <td>January 29, 2021</td>\n",
       "      <td>October 20, 2020</td>\n",
       "      <td>NaN</td>\n",
       "      <td>October 20, 2020</td>\n",
       "      <td>Cimedical, Barranquilla, Atlantico, Colombia</td>\n",
       "      <td>NaN</td>\n",
       "      <td>https://ClinicalTrials.gov/show/NCT04595136</td>\n",
       "    </tr>\n",
       "    <tr>\n",
       "      <th>3</th>\n",
       "      <td>NCT04395482</td>\n",
       "      <td>Lung CT Scan Analysis of SARS-CoV2 Induced Lun...</td>\n",
       "      <td>TAC-COVID19</td>\n",
       "      <td>Recruiting</td>\n",
       "      <td>No Results Available</td>\n",
       "      <td>covid19</td>\n",
       "      <td>Other: Lung CT scan analysis in COVID-19 patients</td>\n",
       "      <td>A qualitative analysis of parenchymal lung dam...</td>\n",
       "      <td>University of Milano Bicocca</td>\n",
       "      <td>All</td>\n",
       "      <td>...</td>\n",
       "      <td>TAC-COVID19</td>\n",
       "      <td>May 7, 2020</td>\n",
       "      <td>June 15, 2021</td>\n",
       "      <td>June 15, 2021</td>\n",
       "      <td>May 20, 2020</td>\n",
       "      <td>NaN</td>\n",
       "      <td>November 9, 2020</td>\n",
       "      <td>Ospedale Papa Giovanni XXIII, Bergamo, Italy|P...</td>\n",
       "      <td>NaN</td>\n",
       "      <td>https://ClinicalTrials.gov/show/NCT04395482</td>\n",
       "    </tr>\n",
       "    <tr>\n",
       "      <th>4</th>\n",
       "      <td>NCT04416061</td>\n",
       "      <td>The Role of a Private Hospital in Hong Kong Am...</td>\n",
       "      <td>COVID-19</td>\n",
       "      <td>Active, not recruiting</td>\n",
       "      <td>No Results Available</td>\n",
       "      <td>COVID</td>\n",
       "      <td>Diagnostic Test: COVID 19 Diagnostic Test</td>\n",
       "      <td>Proportion of asymptomatic subjects|Proportion...</td>\n",
       "      <td>Hong Kong Sanatorium &amp; Hospital</td>\n",
       "      <td>All</td>\n",
       "      <td>...</td>\n",
       "      <td>RC-2020-08</td>\n",
       "      <td>May 25, 2020</td>\n",
       "      <td>July 31, 2020</td>\n",
       "      <td>August 31, 2020</td>\n",
       "      <td>June 4, 2020</td>\n",
       "      <td>NaN</td>\n",
       "      <td>June 4, 2020</td>\n",
       "      <td>Hong Kong Sanatorium &amp; Hospital, Hong Kong, Ho...</td>\n",
       "      <td>NaN</td>\n",
       "      <td>https://ClinicalTrials.gov/show/NCT04416061</td>\n",
       "    </tr>\n",
       "    <tr>\n",
       "      <th>5</th>\n",
       "      <td>NCT04395924</td>\n",
       "      <td>Maternal-foetal Transmission of SARS-Cov-2</td>\n",
       "      <td>TMF-COVID-19</td>\n",
       "      <td>Recruiting</td>\n",
       "      <td>No Results Available</td>\n",
       "      <td>Maternal Fetal Infection Transmission|COVID-19...</td>\n",
       "      <td>Diagnostic Test: Diagnosis of SARS-Cov2 by RT-...</td>\n",
       "      <td>COVID-19 by positive PCR in cord blood and / o...</td>\n",
       "      <td>Centre Hospitalier Régional d'Orléans|Centre d...</td>\n",
       "      <td>Female</td>\n",
       "      <td>...</td>\n",
       "      <td>CHRO-2020-10</td>\n",
       "      <td>May 5, 2020</td>\n",
       "      <td>May 2021</td>\n",
       "      <td>May 2021</td>\n",
       "      <td>May 20, 2020</td>\n",
       "      <td>NaN</td>\n",
       "      <td>June 4, 2020</td>\n",
       "      <td>CHR Orléans, Orléans, France</td>\n",
       "      <td>NaN</td>\n",
       "      <td>https://ClinicalTrials.gov/show/NCT04395924</td>\n",
       "    </tr>\n",
       "  </tbody>\n",
       "</table>\n",
       "<p>5 rows × 26 columns</p>\n",
       "</div>"
      ],
      "text/plain": [
       "       NCT Number                                              Title  \\\n",
       "Rank                                                                   \n",
       "1     NCT04785898  Diagnostic Performance of the ID Now™ COVID-19...   \n",
       "2     NCT04595136  Study to Evaluate the Efficacy of COVID19-0001...   \n",
       "3     NCT04395482  Lung CT Scan Analysis of SARS-CoV2 Induced Lun...   \n",
       "4     NCT04416061  The Role of a Private Hospital in Hong Kong Am...   \n",
       "5     NCT04395924         Maternal-foetal Transmission of SARS-Cov-2   \n",
       "\n",
       "           Acronym                  Status         Study Results  \\\n",
       "Rank                                                               \n",
       "1      COVID-IDNow  Active, not recruiting  No Results Available   \n",
       "2         COVID-19      Not yet recruiting  No Results Available   \n",
       "3      TAC-COVID19              Recruiting  No Results Available   \n",
       "4         COVID-19  Active, not recruiting  No Results Available   \n",
       "5     TMF-COVID-19              Recruiting  No Results Available   \n",
       "\n",
       "                                             Conditions  \\\n",
       "Rank                                                      \n",
       "1                                               Covid19   \n",
       "2                                  SARS-CoV-2 Infection   \n",
       "3                                               covid19   \n",
       "4                                                 COVID   \n",
       "5     Maternal Fetal Infection Transmission|COVID-19...   \n",
       "\n",
       "                                          Interventions  \\\n",
       "Rank                                                      \n",
       "1      Diagnostic Test: ID Now™ COVID-19 Screening Test   \n",
       "2       Drug: Drug COVID19-0001-USR|Drug: normal saline   \n",
       "3     Other: Lung CT scan analysis in COVID-19 patients   \n",
       "4             Diagnostic Test: COVID 19 Diagnostic Test   \n",
       "5     Diagnostic Test: Diagnosis of SARS-Cov2 by RT-...   \n",
       "\n",
       "                                       Outcome Measures  \\\n",
       "Rank                                                      \n",
       "1     Evaluate the diagnostic performance of the ID ...   \n",
       "2     Change on viral load results from baseline aft...   \n",
       "3     A qualitative analysis of parenchymal lung dam...   \n",
       "4     Proportion of asymptomatic subjects|Proportion...   \n",
       "5     COVID-19 by positive PCR in cord blood and / o...   \n",
       "\n",
       "                                  Sponsor/Collaborators  Gender  ...  \\\n",
       "Rank                                                             ...   \n",
       "1                 Groupe Hospitalier Paris Saint Joseph     All  ...   \n",
       "2                            United Medical Specialties     All  ...   \n",
       "3                          University of Milano Bicocca     All  ...   \n",
       "4                       Hong Kong Sanatorium & Hospital     All  ...   \n",
       "5     Centre Hospitalier Régional d'Orléans|Centre d...  Female  ...   \n",
       "\n",
       "             Other IDs        Start Date  Primary Completion Date  \\\n",
       "Rank                                                                \n",
       "1          COVID-IDNow  November 9, 2020        December 22, 2020   \n",
       "2     COVID19-0001-USR  November 2, 2020        December 15, 2020   \n",
       "3          TAC-COVID19       May 7, 2020            June 15, 2021   \n",
       "4           RC-2020-08      May 25, 2020            July 31, 2020   \n",
       "5         CHRO-2020-10       May 5, 2020                 May 2021   \n",
       "\n",
       "       Completion Date      First Posted Results First Posted  \\\n",
       "Rank                                                            \n",
       "1       April 30, 2021     March 8, 2021                  NaN   \n",
       "2     January 29, 2021  October 20, 2020                  NaN   \n",
       "3        June 15, 2021      May 20, 2020                  NaN   \n",
       "4      August 31, 2020      June 4, 2020                  NaN   \n",
       "5             May 2021      May 20, 2020                  NaN   \n",
       "\n",
       "     Last Update Posted                                          Locations  \\\n",
       "Rank                                                                         \n",
       "1         March 8, 2021  Groupe Hospitalier Paris Saint-Joseph, Paris, ...   \n",
       "2      October 20, 2020       Cimedical, Barranquilla, Atlantico, Colombia   \n",
       "3      November 9, 2020  Ospedale Papa Giovanni XXIII, Bergamo, Italy|P...   \n",
       "4          June 4, 2020  Hong Kong Sanatorium & Hospital, Hong Kong, Ho...   \n",
       "5          June 4, 2020                       CHR Orléans, Orléans, France   \n",
       "\n",
       "     Study Documents                                          URL  \n",
       "Rank                                                               \n",
       "1                NaN  https://ClinicalTrials.gov/show/NCT04785898  \n",
       "2                NaN  https://ClinicalTrials.gov/show/NCT04595136  \n",
       "3                NaN  https://ClinicalTrials.gov/show/NCT04395482  \n",
       "4                NaN  https://ClinicalTrials.gov/show/NCT04416061  \n",
       "5                NaN  https://ClinicalTrials.gov/show/NCT04395924  \n",
       "\n",
       "[5 rows x 26 columns]"
      ]
     },
     "execution_count": 2,
     "metadata": {},
     "output_type": "execute_result"
    }
   ],
   "source": [
    "df = pd.read_csv('COVID clinical trials.csv',index_col=0)\n",
    "df.head()"
   ]
  },
  {
   "cell_type": "code",
   "execution_count": 3,
   "id": "194abec6-6547-44af-8d14-b95f8d0262a4",
   "metadata": {},
   "outputs": [
    {
     "data": {
      "text/plain": [
       "(5783, 26)"
      ]
     },
     "execution_count": 3,
     "metadata": {},
     "output_type": "execute_result"
    }
   ],
   "source": [
    "df.shape"
   ]
  },
  {
   "cell_type": "code",
   "execution_count": 4,
   "id": "3b3c6f14-51b8-4b14-b78f-457d018898ee",
   "metadata": {},
   "outputs": [
    {
     "name": "stdout",
     "output_type": "stream",
     "text": [
      "<class 'pandas.core.frame.DataFrame'>\n",
      "Index: 5783 entries, 1 to 5783\n",
      "Data columns (total 26 columns):\n",
      " #   Column                   Non-Null Count  Dtype  \n",
      "---  ------                   --------------  -----  \n",
      " 0   NCT Number               5783 non-null   object \n",
      " 1   Title                    5783 non-null   object \n",
      " 2   Acronym                  2480 non-null   object \n",
      " 3   Status                   5783 non-null   object \n",
      " 4   Study Results            5783 non-null   object \n",
      " 5   Conditions               5783 non-null   object \n",
      " 6   Interventions            4897 non-null   object \n",
      " 7   Outcome Measures         5748 non-null   object \n",
      " 8   Sponsor/Collaborators    5783 non-null   object \n",
      " 9   Gender                   5773 non-null   object \n",
      " 10  Age                      5783 non-null   object \n",
      " 11  Phases                   3322 non-null   object \n",
      " 12  Enrollment               5749 non-null   float64\n",
      " 13  Funded Bys               5783 non-null   object \n",
      " 14  Study Type               5783 non-null   object \n",
      " 15  Study Designs            5748 non-null   object \n",
      " 16  Other IDs                5782 non-null   object \n",
      " 17  Start Date               5749 non-null   object \n",
      " 18  Primary Completion Date  5747 non-null   object \n",
      " 19  Completion Date          5747 non-null   object \n",
      " 20  First Posted             5783 non-null   object \n",
      " 21  Results First Posted     36 non-null     object \n",
      " 22  Last Update Posted       5783 non-null   object \n",
      " 23  Locations                5198 non-null   object \n",
      " 24  Study Documents          182 non-null    object \n",
      " 25  URL                      5783 non-null   object \n",
      "dtypes: float64(1), object(25)\n",
      "memory usage: 1.2+ MB\n"
     ]
    }
   ],
   "source": [
    "df.info()"
   ]
  },
  {
   "cell_type": "code",
   "execution_count": 5,
   "id": "710ac3d4-b26a-47ca-ba05-5c62b0fedc84",
   "metadata": {},
   "outputs": [
    {
     "data": {
      "text/plain": [
       "NCT Number                                                       NCT04355897\n",
       "Title                      CoVID-19 Plasma in Treatment of COVID-19 Patients\n",
       "Acronym                                                                  NaN\n",
       "Status                                                            Recruiting\n",
       "Study Results                                           No Results Available\n",
       "Conditions                                                          COVID 19\n",
       "Interventions                       Biological: Convalescent COVID 19 Plasma\n",
       "Outcome Measures           Reduce mortality|Reduce requirement for mechan...\n",
       "Sponsor/Collaborators                                    The Christ Hospital\n",
       "Gender                                                                   All\n",
       "Age                              18 Years to 80 Years   (Adult, Older Adult)\n",
       "Phases                                                         Early Phase 1\n",
       "Enrollment                                                             100.0\n",
       "Funded Bys                                                             Other\n",
       "Study Type                                                    Interventional\n",
       "Study Designs              Allocation: N/A|Intervention Model: Single Gro...\n",
       "Other IDs                                                              20-23\n",
       "Start Date                                                    April 28, 2020\n",
       "Primary Completion Date                                            July 2020\n",
       "Completion Date                                                  August 2020\n",
       "First Posted                                                  April 21, 2020\n",
       "Results First Posted                                                     NaN\n",
       "Last Update Posted                                              May 20, 2020\n",
       "Locations                  The Christ Hospital, Cincinnati, Ohio, United ...\n",
       "Study Documents                                                          NaN\n",
       "URL                              https://ClinicalTrials.gov/show/NCT04355897\n",
       "Name: 11, dtype: object"
      ]
     },
     "execution_count": 5,
     "metadata": {},
     "output_type": "execute_result"
    }
   ],
   "source": [
    "df.iloc[10]"
   ]
  },
  {
   "cell_type": "code",
   "execution_count": 6,
   "id": "6028f9bf-a3d1-49e0-a47c-9dd6fc9a2ab0",
   "metadata": {},
   "outputs": [
    {
     "data": {
      "text/plain": [
       "NCT Number                    0\n",
       "Title                         0\n",
       "Acronym                    3303\n",
       "Status                        0\n",
       "Study Results                 0\n",
       "Conditions                    0\n",
       "Interventions               886\n",
       "Outcome Measures             35\n",
       "Sponsor/Collaborators         0\n",
       "Gender                       10\n",
       "Age                           0\n",
       "Phases                     2461\n",
       "Enrollment                   34\n",
       "Funded Bys                    0\n",
       "Study Type                    0\n",
       "Study Designs                35\n",
       "Other IDs                     1\n",
       "Start Date                   34\n",
       "Primary Completion Date      36\n",
       "Completion Date              36\n",
       "First Posted                  0\n",
       "Results First Posted       5747\n",
       "Last Update Posted            0\n",
       "Locations                   585\n",
       "Study Documents            5601\n",
       "URL                           0\n",
       "dtype: int64"
      ]
     },
     "execution_count": 6,
     "metadata": {},
     "output_type": "execute_result"
    }
   ],
   "source": [
    "df.isnull().sum()"
   ]
  },
  {
   "cell_type": "code",
   "execution_count": 7,
   "id": "6a0306b6-f178-45a6-8b46-d8a56e0c6d26",
   "metadata": {},
   "outputs": [],
   "source": [
    "df = df.drop(columns=['Acronym','Study Documents','Results First Posted'])"
   ]
  },
  {
   "cell_type": "code",
   "execution_count": 10,
   "id": "8a4a288e-5506-4863-98ef-eb6e60abd423",
   "metadata": {},
   "outputs": [],
   "source": [
    "df['Phases'].fillna('Not Applicable', inplace=True)\n",
    "df['Interventions'].fillna('Not Specified', inplace=True)\n",
    "df.dropna(subset=['Outcome Measures', 'Enrollment', 'Start Date','Locations','Gender','Other IDs','Study Designs','Primary Completion Date','Completion Date'], inplace=True)\n"
   ]
  },
  {
   "cell_type": "code",
   "execution_count": 11,
   "id": "4d689cc6-2cb2-4e52-8f3c-e91a06fd757a",
   "metadata": {},
   "outputs": [
    {
     "data": {
      "text/plain": [
       "NCT Number                 0\n",
       "Title                      0\n",
       "Status                     0\n",
       "Study Results              0\n",
       "Conditions                 0\n",
       "Interventions              0\n",
       "Outcome Measures           0\n",
       "Sponsor/Collaborators      0\n",
       "Gender                     0\n",
       "Age                        0\n",
       "Phases                     0\n",
       "Enrollment                 0\n",
       "Funded Bys                 0\n",
       "Study Type                 0\n",
       "Study Designs              0\n",
       "Other IDs                  0\n",
       "Start Date                 0\n",
       "Primary Completion Date    0\n",
       "Completion Date            0\n",
       "First Posted               0\n",
       "Last Update Posted         0\n",
       "Locations                  0\n",
       "URL                        0\n",
       "dtype: int64"
      ]
     },
     "execution_count": 11,
     "metadata": {},
     "output_type": "execute_result"
    }
   ],
   "source": [
    "df.isnull().sum()"
   ]
  },
  {
   "cell_type": "code",
   "execution_count": 12,
   "id": "2e252ab9-cd5d-4872-bdd0-d3af30c5fefc",
   "metadata": {},
   "outputs": [],
   "source": [
    "df['Start Date'] = pd.to_datetime(df['Start Date'],errors = 'coerce')\n",
    "df['Primary Completion Date'] = pd.to_datetime(df['Primary Completion Date'],errors = 'coerce')\n",
    "df['Completion Date'] = pd.to_datetime(df['Completion Date'],errors = 'coerce')\n",
    "df['First Posted'] = pd.to_datetime(df['First Posted'],errors = 'coerce')\n",
    "df['Last Update Posted'] = pd.to_datetime(df['Last Update Posted'],errors = 'coerce')"
   ]
  },
  {
   "cell_type": "code",
   "execution_count": 13,
   "id": "bdf7809d-bfb0-4a1b-ab64-0be11606ea36",
   "metadata": {},
   "outputs": [
    {
     "data": {
      "text/plain": [
       "NCT Number                         object\n",
       "Title                              object\n",
       "Status                             object\n",
       "Study Results                      object\n",
       "Conditions                         object\n",
       "Interventions                      object\n",
       "Outcome Measures                   object\n",
       "Sponsor/Collaborators              object\n",
       "Gender                             object\n",
       "Age                                object\n",
       "Phases                             object\n",
       "Enrollment                        float64\n",
       "Funded Bys                         object\n",
       "Study Type                         object\n",
       "Study Designs                      object\n",
       "Other IDs                          object\n",
       "Start Date                 datetime64[ns]\n",
       "Primary Completion Date    datetime64[ns]\n",
       "Completion Date            datetime64[ns]\n",
       "First Posted               datetime64[ns]\n",
       "Last Update Posted         datetime64[ns]\n",
       "Locations                          object\n",
       "URL                                object\n",
       "dtype: object"
      ]
     },
     "execution_count": 13,
     "metadata": {},
     "output_type": "execute_result"
    }
   ],
   "source": [
    "df.dtypes"
   ]
  },
  {
   "cell_type": "code",
   "execution_count": 14,
   "id": "55820ec9-7b81-47ee-9415-ff44892b775d",
   "metadata": {},
   "outputs": [
    {
     "data": {
      "text/plain": [
       "NCT Number                    0\n",
       "Title                         0\n",
       "Status                        0\n",
       "Study Results                 0\n",
       "Conditions                    0\n",
       "Interventions                 0\n",
       "Outcome Measures              0\n",
       "Sponsor/Collaborators         0\n",
       "Gender                        0\n",
       "Age                           0\n",
       "Phases                        0\n",
       "Enrollment                    0\n",
       "Funded Bys                    0\n",
       "Study Type                    0\n",
       "Study Designs                 0\n",
       "Other IDs                     0\n",
       "Start Date                  278\n",
       "Primary Completion Date    1212\n",
       "Completion Date            1276\n",
       "First Posted                  0\n",
       "Last Update Posted            0\n",
       "Locations                     0\n",
       "URL                           0\n",
       "dtype: int64"
      ]
     },
     "execution_count": 14,
     "metadata": {},
     "output_type": "execute_result"
    }
   ],
   "source": [
    "df.isnull().sum()"
   ]
  },
  {
   "cell_type": "code",
   "execution_count": 15,
   "id": "8f4385de-0545-4e64-9ca9-0ef5529ecfcd",
   "metadata": {},
   "outputs": [],
   "source": [
    "df = df.dropna(subset=['Start Date', 'Primary Completion Date', 'Completion Date', 'First Posted'])"
   ]
  },
  {
   "cell_type": "code",
   "execution_count": 16,
   "id": "c4247acc-545d-45ab-a312-5960f2b5926b",
   "metadata": {},
   "outputs": [
    {
     "data": {
      "text/plain": [
       "(3859, 23)"
      ]
     },
     "execution_count": 16,
     "metadata": {},
     "output_type": "execute_result"
    }
   ],
   "source": [
    "df.shape"
   ]
  },
  {
   "cell_type": "code",
   "execution_count": 17,
   "id": "b10aa211-4e47-4339-833a-c7e1e1e7a4ed",
   "metadata": {},
   "outputs": [
    {
     "data": {
      "text/plain": [
       "NCT Number                 0\n",
       "Title                      0\n",
       "Status                     0\n",
       "Study Results              0\n",
       "Conditions                 0\n",
       "Interventions              0\n",
       "Outcome Measures           0\n",
       "Sponsor/Collaborators      0\n",
       "Gender                     0\n",
       "Age                        0\n",
       "Phases                     0\n",
       "Enrollment                 0\n",
       "Funded Bys                 0\n",
       "Study Type                 0\n",
       "Study Designs              0\n",
       "Other IDs                  0\n",
       "Start Date                 0\n",
       "Primary Completion Date    0\n",
       "Completion Date            0\n",
       "First Posted               0\n",
       "Last Update Posted         0\n",
       "Locations                  0\n",
       "URL                        0\n",
       "dtype: int64"
      ]
     },
     "execution_count": 17,
     "metadata": {},
     "output_type": "execute_result"
    }
   ],
   "source": [
    "df.isnull().sum()"
   ]
  },
  {
   "cell_type": "code",
   "execution_count": 41,
   "id": "6bd36e35-cd83-4d60-bfd4-37a8b9788d06",
   "metadata": {},
   "outputs": [
    {
     "data": {
      "text/plain": [
       "Rank\n",
       "1       2020\n",
       "2       2020\n",
       "3       2020\n",
       "4       2020\n",
       "6       2020\n",
       "        ... \n",
       "5770    2021\n",
       "5772    2020\n",
       "5775    2020\n",
       "5777    2020\n",
       "5782    2021\n",
       "Name: Start Year, Length: 3859, dtype: int32"
      ]
     },
     "execution_count": 41,
     "metadata": {},
     "output_type": "execute_result"
    }
   ],
   "source": [
    "df['Start Year']=df['Start Date'].dt.year"
   ]
  },
  {
   "cell_type": "code",
   "execution_count": 26,
   "id": "14beee75-1eb8-4696-ae40-183b02eb3f0e",
   "metadata": {},
   "outputs": [
    {
     "data": {
      "image/png": "[encoded data removed]",
      "text/plain": [
       "<Figure size 640x480 with 1 Axes>"
      ]
     },
     "metadata": {},
     "output_type": "display_data"
    }
   ],
   "source": [
    "phase_counts=df['Phases'].value_counts().head(10)\n",
    "\n",
    "sns.barplot(x=phase_counts.values, y=phase_counts.index,palette=\"mako\")\n",
    "plt.title('Top 10 Trial Phases')\n",
    "plt.xlabel('Count')\n",
    "plt.ylabel('Phases')\n",
    "plt.show()"
   ]
  },
  {
   "cell_type": "code",
   "execution_count": 34,
   "id": "6b22ca76-cc70-46bc-b15e-35978d0ebb88",
   "metadata": {},
   "outputs": [
    {
     "data": {
      "image/png": "[encoded data removed]",
      "text/plain": [
       "<Figure size 640x480 with 1 Axes>"
      ]
     },
     "metadata": {},
     "output_type": "display_data"
    }
   ],
   "source": [
    "status_counts=df['Status'].value_counts()\n",
    "\n",
    "sns.barplot(x=status_counts.values, y=status_counts.index,palette=\"Set1\")\n",
    "plt.title('Current Status')\n",
    "plt.xlabel('Count')\n",
    "plt.ylabel('Status')\n",
    "plt.show()\n"
   ]
  },
  {
   "cell_type": "code",
   "execution_count": 49,
   "id": "89d42429-248a-4d7b-a882-9146e7fcbef4",
   "metadata": {},
   "outputs": [
    {
     "name": "stderr",
     "output_type": "stream",
     "text": [
      "C:\\Users\\gaura\\anaconda3\\Lib\\site-packages\\seaborn\\_oldcore.py:1119: FutureWarning: use_inf_as_na option is deprecated and will be removed in a future version. Convert inf values to NaN before operating instead.\n",
      "  with pd.option_context('mode.use_inf_as_na', True):\n",
      "C:\\Users\\gaura\\anaconda3\\Lib\\site-packages\\seaborn\\_oldcore.py:1119: FutureWarning: use_inf_as_na option is deprecated and will be removed in a future version. Convert inf values to NaN before operating instead.\n",
      "  with pd.option_context('mode.use_inf_as_na', True):\n"
     ]
    },
    {
     "data": {
      "image/png": "[encoded data removed]",
      "text/plain": [
       "<Figure size 640x480 with 1 Axes>"
      ]
     },
     "metadata": {},
     "output_type": "display_data"
    }
   ],
   "source": [
    "start_year_counts = df['Start Year'].sort_index()\n",
    "\n",
    "sns.lineplot(x=start_year_counts.values, y=start_year_counts.index,marker='o')\n",
    "plt.title('Current Status')\n",
    "plt.xlabel('Years')\n",
    "plt.ylabel('Number of trials')\n",
    "plt.show()\n"
   ]
  },
  {
   "cell_type": "code",
   "execution_count": 53,
   "id": "e0516939-7128-4f1b-b70b-db0fe9d7b7e3",
   "metadata": {},
   "outputs": [
    {
     "data": {
      "image/png": "[encoded data removed]",
      "text/plain": [
       "<Figure size 640x480 with 1 Axes>"
      ]
     },
     "metadata": {},
     "output_type": "display_data"
    }
   ],
   "source": [
    "top_countries = df['Locations'].str.extract(r', ([^,]+)$')[0].value_counts().head(10)\n",
    "\n",
    "sns.barplot(x=top_countries.values, y=top_countries.index,palette='Set2')\n",
    "plt.title('Current Status')\n",
    "plt.xlabel('Count')\n",
    "plt.ylabel('Countries')\n",
    "plt.show()\n"
   ]
  },
  {
   "cell_type": "code",
   "execution_count": null,
   "id": "57d007d5-93ff-4440-a131-a816b6f6f0db",
   "metadata": {},
   "outputs": [],
   "source": []
  }
 ],
 "metadata": {
  "kernelspec": {
   "display_name": "Python 3 (ipykernel)",
   "language": "python",
   "name": "python3"
  },
  "language_info": {
   "codemirror_mode": {
    "name": "ipython",
    "version": 3
   },
   "file_extension": ".py",
   "mimetype": "text/x-python",
   "name": "python",
   "nbconvert_exporter": "python",
   "pygments_lexer": "ipython3",
   "version": "3.11.7"
  }
 },
 "nbformat": 4,
 "nbformat_minor": 5
}
