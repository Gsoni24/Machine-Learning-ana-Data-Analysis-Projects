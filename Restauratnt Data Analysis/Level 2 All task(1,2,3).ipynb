{
 "cells": [
  {
   "cell_type": "code",
   "execution_count": 1,
   "id": "58064594-39d8-46d1-95b4-e6a6ea97c207",
   "metadata": {},
   "outputs": [],
   "source": [
    "#Importing all the necessary libraries\n",
    "import pandas as pd\n",
    "import numpy as np\n",
    "import matplotlib.pyplot as plt\n",
    "import seaborn as sns"
   ]
  },
  {
   "cell_type": "code",
   "execution_count": 3,
   "id": "7d8713cc-47e7-408c-872c-33c2b0614060",
   "metadata": {},
   "outputs": [],
   "source": [
    "df = pd.read_csv('Dataset.csv')"
   ]
  },
  {
   "cell_type": "code",
   "execution_count": null,
   "id": "20347c52-f71b-408c-a3bb-3d42b7511cb9",
   "metadata": {},
   "outputs": [],
   "source": [
    "\"\"\"\n",
    "Performed all these task in the data as EDA:\n",
    "df.head()\n",
    "df.info()\n",
    "df.isnull().sum()\n",
    "df.dropna(axis = 0,inplace = True)\n",
    "\n",
    "\"\"\""
   ]
  },
  {
   "cell_type": "markdown",
   "id": "69d88ca3-bafc-4ca3-aab7-eef3da8f40f7",
   "metadata": {},
   "source": [
    "TASK 1 :  TABLE BOOKING AND ONLINE DELIVERY \n",
    "* Determine the percentage of restaurants that \n",
    "offer table booking and online delivery\n",
    "* Compare the average ratings of restaurants \n",
    "with table booking and those without\n",
    "* Analyze the availability of online delivery \n",
    "among restaurants with different price ranges..."
   ]
  },
  {
   "cell_type": "code",
   "execution_count": 7,
   "id": "c1482e90-2fcb-4620-a7a4-49756257abc8",
   "metadata": {},
   "outputs": [
    {
     "name": "stdout",
     "output_type": "stream",
     "text": [
      "Percentage of restaurants offering table booking service is : 12.12\n"
     ]
    }
   ],
   "source": [
    "#Checking the percentage of restaurants having table booking\n",
    "table_booking = (df['Has Table booking']=='Yes').mean()*100\n",
    "print(\"Percentage of restaurants offering table booking service is :\",table_booking.round(2))"
   ]
  },
  {
   "cell_type": "code",
   "execution_count": 8,
   "id": "fd125b08-1d34-4402-90cc-21b7c2ba9b86",
   "metadata": {},
   "outputs": [
    {
     "name": "stdout",
     "output_type": "stream",
     "text": [
      "Percentage of restaurants offering online delivery service is : 25.66\n"
     ]
    }
   ],
   "source": [
    "#Checking the percentage of restaurants having online delivery\n",
    "online_delivery = (df['Has Online delivery']=='Yes').mean()*100\n",
    "print(\"Percentage of restaurants offering online delivery service is :\",online_delivery.round(2))"
   ]
  },
  {
   "cell_type": "code",
   "execution_count": 9,
   "id": "82968ad3-337d-40d4-a915-e78acaddfa42",
   "metadata": {},
   "outputs": [],
   "source": [
    "#Creating a copy of data for changing values\n",
    "df_copy=df.copy()"
   ]
  },
  {
   "cell_type": "code",
   "execution_count": 11,
   "id": "5ea7b676-5431-47db-bdc0-187e371b6b4f",
   "metadata": {},
   "outputs": [
    {
     "data": {
      "text/plain": [
       "array(['Yes', 'No'], dtype=object)"
      ]
     },
     "execution_count": 11,
     "metadata": {},
     "output_type": "execute_result"
    }
   ],
   "source": [
    "#Getting unique values in the 'Has table booking' column\n",
    "df_copy['Has Table booking'].unique()"
   ]
  },
  {
   "cell_type": "code",
   "execution_count": 12,
   "id": "df8ea9ca-07ab-46e0-8711-4cd1b0fc4e81",
   "metadata": {},
   "outputs": [],
   "source": [
    "#Replace 'obejct' datatype to numeric values of (0,1)\n",
    "df_copy['Has Table booking']= df['Has Table booking'].replace({'Yes':0,'No':1})"
   ]
  },
  {
   "cell_type": "code",
   "execution_count": 13,
   "id": "6df0ccf4-bd36-4b4f-ace3-49cf286859f5",
   "metadata": {},
   "outputs": [
    {
     "name": "stdout",
     "output_type": "stream",
     "text": [
      "The restaurants average rating with tabel booking service provide is :  3.44\n",
      "The restaurants average rating without tabel booking service provide is :  2.56\n"
     ]
    }
   ],
   "source": [
    "#Getting average with and without tabel booking \n",
    "average_with_table_booking = df_copy[df_copy['Has Table booking']==0]['Aggregate rating'].mean()\n",
    "average_without_table_booking =df_copy[df_copy['Has Table booking']==1]['Aggregate rating'].mean()\n",
    "\n",
    "print('The restaurants average rating with tabel booking service provide is : ',average_with_table_booking.round(2))\n",
    "print('The restaurants average rating without tabel booking service provide is : ',average_without_table_booking.round(2))"
   ]
  },
  {
   "cell_type": "code",
   "execution_count": 14,
   "id": "24ed5f3b-6cf9-4b90-a0bc-3bb6eb828e2b",
   "metadata": {},
   "outputs": [
    {
     "data": {
      "image/png": "[encoded data removed]",
      "text/plain": [
       "<Figure size 600x500 with 1 Axes>"
      ]
     },
     "metadata": {},
     "output_type": "display_data"
    }
   ],
   "source": [
    "#Plotting Bar Graph for the generated data \n",
    "ratings = [average_with_table_booking,average_without_table_booking]\n",
    "index = ['With Table Booking', 'Without Table Booking']\n",
    "\n",
    "plt.figure(figsize=(6,5))\n",
    "plt.bar(index,ratings,color =['red','Yellow'])\n",
    "plt.title('Average rating (With or Without) Table Booking')\n",
    "plt.ylabel(\"Average Rating\")\n",
    "plt.show()"
   ]
  },
  {
   "cell_type": "code",
   "execution_count": 17,
   "id": "64bfa5dc-a60e-4ced-8bfe-b772e6773d42",
   "metadata": {},
   "outputs": [
    {
     "data": {
      "text/plain": [
       "array([3, 4, 2, 1], dtype=int64)"
      ]
     },
     "execution_count": 17,
     "metadata": {},
     "output_type": "execute_result"
    }
   ],
   "source": [
    "#Checking unique value for the other features of data\n",
    "df_copy['Price range'].unique()"
   ]
  },
  {
   "cell_type": "code",
   "execution_count": 18,
   "id": "57f3effb-6228-49a3-b109-044c310fd166",
   "metadata": {},
   "outputs": [
    {
     "data": {
      "text/plain": [
       "array(['No', 'Yes'], dtype=object)"
      ]
     },
     "execution_count": 18,
     "metadata": {},
     "output_type": "execute_result"
    }
   ],
   "source": [
    "df_copy['Has Online delivery'].unique()"
   ]
  },
  {
   "cell_type": "code",
   "execution_count": 20,
   "id": "11a2f05d-435f-40e0-b787-6ca998667b45",
   "metadata": {},
   "outputs": [],
   "source": [
    "#Converting values in numeric values\n",
    "df_copy['Has Online delivery']=df_copy['Has Online delivery'].replace({'Yes':0,'No': 1})"
   ]
  },
  {
   "cell_type": "code",
   "execution_count": 22,
   "id": "d1135d3f-9468-4302-bc67-8e27d5eb3d29",
   "metadata": {},
   "outputs": [
    {
     "data": {
      "text/plain": [
       "Price range\n",
       "1    84.225923\n",
       "2    58.689367\n",
       "3    70.809659\n",
       "4    90.955631\n",
       "Name: Has Online delivery, dtype: float64"
      ]
     },
     "execution_count": 22,
     "metadata": {},
     "output_type": "execute_result"
    }
   ],
   "source": [
    "#Analyzing the propability\n",
    "price_range= df_copy.groupby('Price range')['Has Online delivery'].mean()*100\n",
    "price_range"
   ]
  },
  {
   "cell_type": "code",
   "execution_count": 28,
   "id": "dd168773-61df-415e-adcf-79c0a40b1dbf",
   "metadata": {},
   "outputs": [
    {
     "data": {
      "image/png": "[encoded data removed]",
      "text/plain": [
       "<Figure size 1000x600 with 1 Axes>"
      ]
     },
     "metadata": {},
     "output_type": "display_data"
    }
   ],
   "source": [
    "#Plotting Bar graph for the acquired data\n",
    "plt.figure(figsize=(10, 6))\n",
    "price_range.plot(kind='bar', color=['yellow','red','orange','blue'])\n",
    "plt.title('Online Delivery Availability by Price Range')\n",
    "plt.xlabel('Price Range')\n",
    "plt.ylabel('Percentage of Restaurants with Online Delivery')\n",
    "plt.xticks(rotation=0)\n",
    "plt.show()"
   ]
  },
  {
   "cell_type": "markdown",
   "id": "445c141f-51c2-4d65-8345-c0a100ec774e",
   "metadata": {},
   "source": [
    "TASK 2 : PRICE RANGE ANALYSIS\n",
    "* Determine the most common price range \n",
    "among all the restaurants\n",
    "* Calculate the average rating for each price \n",
    "range\n",
    "* Identify the color that represents the highest \n",
    "average rating among different price ranges..."
   ]
  },
  {
   "cell_type": "code",
   "execution_count": 29,
   "id": "14e01483-f001-411e-92c6-247550680977",
   "metadata": {},
   "outputs": [
    {
     "name": "stdout",
     "output_type": "stream",
     "text": [
      "The most common price range in all the restaurants is : 1\n"
     ]
    }
   ],
   "source": [
    "#Getting the most common price in all the restaurants\n",
    "common_counts = df['Price range'].value_counts().idxmax()\n",
    "print('The most common price range in all the restaurants is :',common_counts)"
   ]
  },
  {
   "cell_type": "code",
   "execution_count": 30,
   "id": "c187ede9-abef-4165-b3ff-993edc8896bf",
   "metadata": {},
   "outputs": [
    {
     "data": {
      "text/plain": [
       "Price range\n",
       "1    1.999887\n",
       "2    2.941054\n",
       "3    3.683381\n",
       "4    3.817918\n",
       "Name: Aggregate rating, dtype: float64"
      ]
     },
     "execution_count": 30,
     "metadata": {},
     "output_type": "execute_result"
    }
   ],
   "source": [
    "#Getting the average rating based on price range and aggregate rating\n",
    "average_rating= df.groupby('Price range')['Aggregate rating'].mean()\n",
    "average_rating"
   ]
  },
  {
   "cell_type": "code",
   "execution_count": 33,
   "id": "824580cf-7571-48d6-aa0b-0149cdab8719",
   "metadata": {},
   "outputs": [
    {
     "name": "stdout",
     "output_type": "stream",
     "text": [
      "The color that represents the highest average rating among different price ranges is: Green\n"
     ]
    }
   ],
   "source": [
    "#Identifying the color that represents the highest average rating among different price ranges.\n",
    "rating_color_by_price_range = df.groupby('Price range')['Rating color'].first() \n",
    "\n",
    "price_range_ratings = pd.DataFrame({\n",
    "    'Average Rating': average_rating,\n",
    "    'Rating Color': rating_color_by_price_range\n",
    "})\n",
    "\n",
    "highest_avg_rating_color = price_range_ratings.loc[price_range_ratings['Average Rating'].idxmax()]\n",
    "print(f\"The color that represents the highest average rating among different price ranges is: {highest_avg_rating_color['Rating Color']}\")"
   ]
  },
  {
   "cell_type": "markdown",
   "id": "27b77d30-7f16-4a63-b2d8-c61321cb2b59",
   "metadata": {},
   "source": [
    "TASK 3 : FEATURE ENGINEERING\n",
    "* Extract additional features from the existing \n",
    "columns, such as the length of the restauran \r\n",
    "name or addres\n",
    "* Create new features like \"Has Table Booking\" \n",
    "or \"Has Online Delivery\" by encodin \r\n",
    "categorical variables..\r"
   ]
  },
  {
   "cell_type": "code",
   "execution_count": 34,
   "id": "7a5589f0-d458-402e-b724-90f077e82649",
   "metadata": {},
   "outputs": [
    {
     "data": {
      "text/html": [
       "<div>\n",
       "<style scoped>\n",
       "    .dataframe tbody tr th:only-of-type {\n",
       "        vertical-align: middle;\n",
       "    }\n",
       "\n",
       "    .dataframe tbody tr th {\n",
       "        vertical-align: top;\n",
       "    }\n",
       "\n",
       "    .dataframe thead th {\n",
       "        text-align: right;\n",
       "    }\n",
       "</style>\n",
       "<table border=\"1\" class=\"dataframe\">\n",
       "  <thead>\n",
       "    <tr style=\"text-align: right;\">\n",
       "      <th></th>\n",
       "      <th>Restaurant Name</th>\n",
       "      <th>Restaurant Name Length</th>\n",
       "      <th>Address</th>\n",
       "      <th>Address Length</th>\n",
       "    </tr>\n",
       "  </thead>\n",
       "  <tbody>\n",
       "    <tr>\n",
       "      <th>0</th>\n",
       "      <td>Le Petit Souffle</td>\n",
       "      <td>16</td>\n",
       "      <td>Third Floor, Century City Mall, Kalayaan Avenu...</td>\n",
       "      <td>71</td>\n",
       "    </tr>\n",
       "    <tr>\n",
       "      <th>1</th>\n",
       "      <td>Izakaya Kikufuji</td>\n",
       "      <td>16</td>\n",
       "      <td>Little Tokyo, 2277 Chino Roces Avenue, Legaspi...</td>\n",
       "      <td>67</td>\n",
       "    </tr>\n",
       "    <tr>\n",
       "      <th>2</th>\n",
       "      <td>Heat - Edsa Shangri-La</td>\n",
       "      <td>22</td>\n",
       "      <td>Edsa Shangri-La, 1 Garden Way, Ortigas, Mandal...</td>\n",
       "      <td>56</td>\n",
       "    </tr>\n",
       "    <tr>\n",
       "      <th>3</th>\n",
       "      <td>Ooma</td>\n",
       "      <td>4</td>\n",
       "      <td>Third Floor, Mega Fashion Hall, SM Megamall, O...</td>\n",
       "      <td>70</td>\n",
       "    </tr>\n",
       "    <tr>\n",
       "      <th>4</th>\n",
       "      <td>Sambo Kojin</td>\n",
       "      <td>11</td>\n",
       "      <td>Third Floor, Mega Atrium, SM Megamall, Ortigas...</td>\n",
       "      <td>64</td>\n",
       "    </tr>\n",
       "  </tbody>\n",
       "</table>\n",
       "</div>"
      ],
      "text/plain": [
       "          Restaurant Name  Restaurant Name Length  \\\n",
       "0        Le Petit Souffle                      16   \n",
       "1        Izakaya Kikufuji                      16   \n",
       "2  Heat - Edsa Shangri-La                      22   \n",
       "3                    Ooma                       4   \n",
       "4             Sambo Kojin                      11   \n",
       "\n",
       "                                             Address  Address Length  \n",
       "0  Third Floor, Century City Mall, Kalayaan Avenu...              71  \n",
       "1  Little Tokyo, 2277 Chino Roces Avenue, Legaspi...              67  \n",
       "2  Edsa Shangri-La, 1 Garden Way, Ortigas, Mandal...              56  \n",
       "3  Third Floor, Mega Fashion Hall, SM Megamall, O...              70  \n",
       "4  Third Floor, Mega Atrium, SM Megamall, Ortigas...              64  "
      ]
     },
     "execution_count": 34,
     "metadata": {},
     "output_type": "execute_result"
    }
   ],
   "source": [
    "#Extracting additional features from the existing columns, such as the length of the restaurant name or address.\n",
    "\n",
    "df['Restaurant Name Length'] = df['Restaurant Name'].str.len()\n",
    "df['Address Length'] = df['Address'].str.len()\n",
    "\n",
    "df[['Restaurant Name', 'Restaurant Name Length', 'Address', 'Address Length']].head()"
   ]
  },
  {
   "cell_type": "code",
   "execution_count": 36,
   "id": "2b931f6a-cd00-411c-adb2-88c563a2e8e9",
   "metadata": {},
   "outputs": [
    {
     "data": {
      "text/html": [
       "<div>\n",
       "<style scoped>\n",
       "    .dataframe tbody tr th:only-of-type {\n",
       "        vertical-align: middle;\n",
       "    }\n",
       "\n",
       "    .dataframe tbody tr th {\n",
       "        vertical-align: top;\n",
       "    }\n",
       "\n",
       "    .dataframe thead th {\n",
       "        text-align: right;\n",
       "    }\n",
       "</style>\n",
       "<table border=\"1\" class=\"dataframe\">\n",
       "  <thead>\n",
       "    <tr style=\"text-align: right;\">\n",
       "      <th></th>\n",
       "      <th>Has Table booking</th>\n",
       "      <th>has table booking</th>\n",
       "      <th>Has Online delivery</th>\n",
       "      <th>has online delivery</th>\n",
       "    </tr>\n",
       "  </thead>\n",
       "  <tbody>\n",
       "    <tr>\n",
       "      <th>0</th>\n",
       "      <td>Yes</td>\n",
       "      <td>0</td>\n",
       "      <td>No</td>\n",
       "      <td>1</td>\n",
       "    </tr>\n",
       "    <tr>\n",
       "      <th>1</th>\n",
       "      <td>Yes</td>\n",
       "      <td>0</td>\n",
       "      <td>No</td>\n",
       "      <td>1</td>\n",
       "    </tr>\n",
       "    <tr>\n",
       "      <th>2</th>\n",
       "      <td>Yes</td>\n",
       "      <td>0</td>\n",
       "      <td>No</td>\n",
       "      <td>1</td>\n",
       "    </tr>\n",
       "    <tr>\n",
       "      <th>3</th>\n",
       "      <td>No</td>\n",
       "      <td>1</td>\n",
       "      <td>No</td>\n",
       "      <td>1</td>\n",
       "    </tr>\n",
       "    <tr>\n",
       "      <th>4</th>\n",
       "      <td>Yes</td>\n",
       "      <td>0</td>\n",
       "      <td>No</td>\n",
       "      <td>1</td>\n",
       "    </tr>\n",
       "  </tbody>\n",
       "</table>\n",
       "</div>"
      ],
      "text/plain": [
       "  Has Table booking  has table booking Has Online delivery  \\\n",
       "0               Yes                  0                  No   \n",
       "1               Yes                  0                  No   \n",
       "2               Yes                  0                  No   \n",
       "3                No                  1                  No   \n",
       "4               Yes                  0                  No   \n",
       "\n",
       "   has online delivery  \n",
       "0                    1  \n",
       "1                    1  \n",
       "2                    1  \n",
       "3                    1  \n",
       "4                    1  "
      ]
     },
     "execution_count": 36,
     "metadata": {},
     "output_type": "execute_result"
    }
   ],
   "source": [
    "#Creating new features like \"has table booking\" and \"has online delivery\" as numeric values\n",
    "\n",
    "df['has table booking']=df['Has Table booking'].replace({'Yes':0,'No':1})\n",
    "df['has online delivery']=df['Has Online delivery'].replace({'Yes':0,'No':1})\n",
    "df[['Has Table booking','has table booking','Has Online delivery','has online delivery']].head()"
   ]
  },
  {
   "cell_type": "code",
   "execution_count": null,
   "id": "a172e705-7606-4fb2-851e-d9c2ae28bc0f",
   "metadata": {},
   "outputs": [],
   "source": []
  }
 ],
 "metadata": {
  "kernelspec": {
   "display_name": "Python 3 (ipykernel)",
   "language": "python",
   "name": "python3"
  },
  "language_info": {
   "codemirror_mode": {
    "name": "ipython",
    "version": 3
   },
   "file_extension": ".py",
   "mimetype": "text/x-python",
   "name": "python",
   "nbconvert_exporter": "python",
   "pygments_lexer": "ipython3",
   "version": "3.11.7"
  }
 },
 "nbformat": 4,
 "nbformat_minor": 5
}
